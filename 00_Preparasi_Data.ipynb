{
  "cells": [
    {
      "attachments": {},
      "cell_type": "markdown",
      "metadata": {
        "id": "UOuCLT5GYgxJ"
      },
      "source": [
        "# 00 Preparasi Data\n",
        "\n",
        "Pemrosesan data akselerometer akan dilakukan di *platform* Google Colab sehingga data dari Google Drive harus diintegrasikan terlebih dahulu. Proses integrasi memiliki banyak cara, karena data sudah dibagikan dengan akses publik maka kita dapat membuat *shorcut* terlebih dahulu agar terbaca di Google Drive milik akun sendiri."
      ]
    },
    {
      "attachments": {},
      "cell_type": "markdown",
      "metadata": {
        "id": "kZEJ67LfexCL"
      },
      "source": [
        "## Membuat *shortcut* data ke Drive masing-masing\n",
        "0. Buka laman https://drive.google.com/drive/folders/1Dskl12EPzo6BFrvREpL4VYmX2jSepkzf?usp=sharing\n",
        "1. Pilih menu `event-sundastrait-20210321` kemudian,\n",
        "![gambar shortcut](https://simpan.ugm.ac.id/s/9qOSqfbL8O0KhXj/download)\n",
        "2. Pilih `Add shortcut to Drive` seperti gambar\n",
        "3. Pilih `MyDrive` dengan menekan tanda panah `>`\n",
        "![gambar shortcut 3 4](https://simpan.ugm.ac.id/s/F0rmRPb4bblw8yl/download)\n",
        "4. Kemudian pilih `New Folder` untuk membuat folder baru\n",
        "5. Beri nama folder `BMKG_Akselerometer` (boleh diganti)\n",
        "![gambar shortcut 5 6](https://simpan.ugm.ac.id/s/e7ha3oztjAE0uDa/download)\n",
        "6. Pilih folder yang baru saja dibuat dengan menekan `>` pada `BMKG Akselerometer`\n",
        "7. Klik tombol `ADD SHORTCUT` untuk membuat *shortcut*\n",
        "![gambar shortcut 7](https://simpan.ugm.ac.id/s/4R0ssZGC9NhxJ9O/download)"
      ]
    },
    {
      "attachments": {},
      "cell_type": "markdown",
      "metadata": {
        "id": "BPcHUwQye4ZN"
      },
      "source": [
        "## Mengintegrasikan Google Drive dengan Google Colab\n",
        "\n",
        "Setelah membuat *shortcut* kita dapat mengakses data akselerometer dari Drive dengan melakukan integrasi (*mount*) Drive ke Colab dengan cara:\n",
        "1. Jalankan kode di bawah ini:"
      ]
    },
    {
      "cell_type": "code",
      "execution_count": null,
      "metadata": {
        "colab": {
          "base_uri": "https://localhost:8080/"
        },
        "id": "ltKEIYhtXmoK",
        "outputId": "2954d8c6-9169-4996-cae6-31a6e100bff6"
      },
      "outputs": [
        {
          "name": "stdout",
          "output_type": "stream",
          "text": [
            "Drive already mounted at /content/drive/; to attempt to forcibly remount, call drive.mount(\"/content/drive/\", force_remount=True).\n"
          ]
        }
      ],
      "source": [
        "from google.colab import drive\n",
        "drive.mount('/content/drive/')"
      ]
    },
    {
      "attachments": {},
      "cell_type": "markdown",
      "metadata": {
        "id": "Yvhbdd2pgoht"
      },
      "source": [
        "2. Berikan akses sementara pada Google Colab untuk mengakses Drive\n",
        "3. Cek integrasi dengan membuka File Explorer, pastikan data sudah ada\n",
        "![gambar cek](https://simpan.ugm.ac.id/s/jyDaOsYnGqlOXyt/download)"
      ]
    },
    {
      "attachments": {},
      "cell_type": "markdown",
      "metadata": {},
      "source": [
        "<div style=\"background-color: #28a745 !important; color: white; min-height: 50px; padding: 10px; margin: auto;\">\n",
        "  <p><strong>Tim penyusun materi:</strong></p>\n",
        "  <ul>\n",
        "      <li>Dr. rer.nat. Wiwit Suryanto, M.Si.</li>\n",
        "      <li>Anang Sahroni, S.Si., M.Sc.</li>\n",
        "  </ul>\n",
        "</div>"
      ]
    }
  ],
  "metadata": {
    "colab": {
      "collapsed_sections": [],
      "name": "00_Preparasi_Data.ipynb",
      "provenance": []
    },
    "kernelspec": {
      "display_name": "Python 3",
      "name": "python3"
    },
    "language_info": {
      "name": "python"
    }
  },
  "nbformat": 4,
  "nbformat_minor": 0
}
